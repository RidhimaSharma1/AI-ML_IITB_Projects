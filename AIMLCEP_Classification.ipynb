{
  "nbformat": 4,
  "nbformat_minor": 0,
  "metadata": {
    "colab": {
      "name": "AIMLCEP_Classification.ipynb",
      "provenance": [],
      "collapsed_sections": []
    },
    "kernelspec": {
      "name": "python3",
      "display_name": "Python 3"
    },
    "language_info": {
      "name": "python"
    }
  },
  "cells": [
    {
      "cell_type": "code",
      "execution_count": null,
      "metadata": {
        "id": "KeN2R3Q9xfDC",
        "colab": {
          "base_uri": "https://localhost:8080/"
        },
        "outputId": "524a4bcf-e246-418e-d802-3b2c3f901e16"
      },
      "outputs": [
        {
          "output_type": "stream",
          "name": "stdout",
          "text": [
            "Drive already mounted at /content/drive; to attempt to forcibly remount, call drive.mount(\"/content/drive\", force_remount=True).\n"
          ]
        }
      ],
      "source": [
        "from google.colab import drive\n",
        "drive.mount('/content/drive')"
      ]
    },
    {
      "cell_type": "code",
      "source": [
        "import numpy as np\n",
        "import pandas as pd\n",
        "data_train=pd.read_excel('Q2_classification_train.xlsx')\n",
        "data_test=pd.read_excel('Q2_classification_test.xlsx')"
      ],
      "metadata": {
        "id": "u4wgqc6ewYPd"
      },
      "execution_count": null,
      "outputs": []
    },
    {
      "cell_type": "code",
      "source": [
        "print(\"Train\", data_train.head())\n",
        "print(\"Test\",data_test.head())"
      ],
      "metadata": {
        "id": "eezmxqvmwiLL",
        "colab": {
          "base_uri": "https://localhost:8080/"
        },
        "outputId": "80e50ccb-5225-4867-882b-c388a08895dc"
      },
      "execution_count": null,
      "outputs": [
        {
          "output_type": "stream",
          "name": "stdout",
          "text": [
            "Train    spam  to_multiple  from  cc  ...  exclaim_subj  urgent_subj  exclaim_mess  number\n",
            "0     0            0     1   0  ...             0            0             0     big\n",
            "1     0            0     1   0  ...             0            0             1   small\n",
            "2     0            0     1   0  ...             0            0            48   small\n",
            "3     0            0     1   0  ...             0            0             1    none\n",
            "4     0            0     1   0  ...             0            0             1    none\n",
            "\n",
            "[5 rows x 20 columns]\n",
            "Test    spam  to_multiple  from  cc  ...  exclaim_subj  urgent_subj  exclaim_mess  number\n",
            "0     1            0     1   0  ...             0            0             8   small\n",
            "1     1            0     1   0  ...             0            0             4   small\n",
            "2     1            0     1   0  ...             0            0             0    none\n",
            "3     1            0     1   4  ...             0            0             3   small\n",
            "4     1            0     1   0  ...             0            0             0    none\n",
            "\n",
            "[5 rows x 20 columns]\n"
          ]
        }
      ]
    },
    {
      "cell_type": "code",
      "source": [
        "data_train.isnull().sum()"
      ],
      "metadata": {
        "colab": {
          "base_uri": "https://localhost:8080/"
        },
        "id": "2LO6n06RyscQ",
        "outputId": "60c85a0c-4e99-42b5-b1f2-64f269d25261"
      },
      "execution_count": null,
      "outputs": [
        {
          "output_type": "execute_result",
          "data": {
            "text/plain": [
              "spam            0\n",
              "to_multiple     0\n",
              "from            0\n",
              "cc              0\n",
              "sent_email      0\n",
              "image           0\n",
              "attach          0\n",
              "dollar          0\n",
              "winner          0\n",
              "inherit         0\n",
              "viagra          0\n",
              "password        0\n",
              "num_char        0\n",
              "line_breaks     0\n",
              "format          0\n",
              "re_subj         0\n",
              "exclaim_subj    0\n",
              "urgent_subj     0\n",
              "exclaim_mess    0\n",
              "number          0\n",
              "dtype: int64"
            ]
          },
          "metadata": {},
          "execution_count": 26
        }
      ]
    },
    {
      "cell_type": "code",
      "source": [
        "data_train['number'].value_counts()"
      ],
      "metadata": {
        "colab": {
          "base_uri": "https://localhost:8080/"
        },
        "id": "R3z3Qyqr2vkQ",
        "outputId": "8189f739-ab49-4947-bbc1-7a7dff4f17c6"
      },
      "execution_count": null,
      "outputs": [
        {
          "output_type": "execute_result",
          "data": {
            "text/plain": [
              "small    2271\n",
              "none      438\n",
              "big       427\n",
              "Name: number, dtype: int64"
            ]
          },
          "metadata": {},
          "execution_count": 27
        }
      ]
    },
    {
      "cell_type": "code",
      "source": [
        "data_train['winner'].value_counts()"
      ],
      "metadata": {
        "colab": {
          "base_uri": "https://localhost:8080/"
        },
        "id": "oZP9eSX63YRC",
        "outputId": "7283f8dc-9365-436a-f6f5-816af0098592"
      },
      "execution_count": null,
      "outputs": [
        {
          "output_type": "execute_result",
          "data": {
            "text/plain": [
              "no     3088\n",
              "yes      48\n",
              "Name: winner, dtype: int64"
            ]
          },
          "metadata": {},
          "execution_count": 28
        }
      ]
    },
    {
      "cell_type": "code",
      "source": [
        "data_train['spam'].value_counts()"
      ],
      "metadata": {
        "colab": {
          "base_uri": "https://localhost:8080/"
        },
        "id": "f0raX1SUUhkD",
        "outputId": "a61f6118-fdf5-4dd3-b959-4307e9e7829e"
      },
      "execution_count": null,
      "outputs": [
        {
          "output_type": "execute_result",
          "data": {
            "text/plain": [
              "0    2842\n",
              "1     294\n",
              "Name: spam, dtype: int64"
            ]
          },
          "metadata": {},
          "execution_count": 29
        }
      ]
    },
    {
      "cell_type": "code",
      "source": [
        "data_test['spam'].value_counts()"
      ],
      "metadata": {
        "colab": {
          "base_uri": "https://localhost:8080/"
        },
        "id": "DYMtbe7MFgk-",
        "outputId": "28b882d4-61b6-4d3d-8344-7f0831e256a5"
      },
      "execution_count": null,
      "outputs": [
        {
          "output_type": "execute_result",
          "data": {
            "text/plain": [
              "0    712\n",
              "1     73\n",
              "Name: spam, dtype: int64"
            ]
          },
          "metadata": {},
          "execution_count": 30
        }
      ]
    },
    {
      "cell_type": "markdown",
      "source": [
        "a) Converting Text variables (winner and number) into numerical represntation"
      ],
      "metadata": {
        "id": "MVVUXH4vEdrk"
      }
    },
    {
      "cell_type": "code",
      "source": [
        "data_train=pd.get_dummies(data=data_train,columns= ['winner'], drop_first=True)\n",
        "data_train=pd.get_dummies(data=data_train,columns= ['number'], drop_first=True)\n",
        "data_train.head()"
      ],
      "metadata": {
        "colab": {
          "base_uri": "https://localhost:8080/",
          "height": 270
        },
        "id": "jkPOWfsQ3fcR",
        "outputId": "8d1931ca-8676-4773-b655-e15fce242f20"
      },
      "execution_count": null,
      "outputs": [
        {
          "output_type": "execute_result",
          "data": {
            "text/html": [
              "\n",
              "  <div id=\"df-ff91f953-c7f3-4a96-8b9d-f1eab5c4dde2\">\n",
              "    <div class=\"colab-df-container\">\n",
              "      <div>\n",
              "<style scoped>\n",
              "    .dataframe tbody tr th:only-of-type {\n",
              "        vertical-align: middle;\n",
              "    }\n",
              "\n",
              "    .dataframe tbody tr th {\n",
              "        vertical-align: top;\n",
              "    }\n",
              "\n",
              "    .dataframe thead th {\n",
              "        text-align: right;\n",
              "    }\n",
              "</style>\n",
              "<table border=\"1\" class=\"dataframe\">\n",
              "  <thead>\n",
              "    <tr style=\"text-align: right;\">\n",
              "      <th></th>\n",
              "      <th>spam</th>\n",
              "      <th>to_multiple</th>\n",
              "      <th>from</th>\n",
              "      <th>cc</th>\n",
              "      <th>sent_email</th>\n",
              "      <th>image</th>\n",
              "      <th>attach</th>\n",
              "      <th>dollar</th>\n",
              "      <th>inherit</th>\n",
              "      <th>viagra</th>\n",
              "      <th>password</th>\n",
              "      <th>num_char</th>\n",
              "      <th>line_breaks</th>\n",
              "      <th>format</th>\n",
              "      <th>re_subj</th>\n",
              "      <th>exclaim_subj</th>\n",
              "      <th>urgent_subj</th>\n",
              "      <th>exclaim_mess</th>\n",
              "      <th>winner_yes</th>\n",
              "      <th>number_none</th>\n",
              "      <th>number_small</th>\n",
              "    </tr>\n",
              "  </thead>\n",
              "  <tbody>\n",
              "    <tr>\n",
              "      <th>0</th>\n",
              "      <td>0</td>\n",
              "      <td>0</td>\n",
              "      <td>1</td>\n",
              "      <td>0</td>\n",
              "      <td>0</td>\n",
              "      <td>0</td>\n",
              "      <td>0</td>\n",
              "      <td>0</td>\n",
              "      <td>0</td>\n",
              "      <td>0</td>\n",
              "      <td>0</td>\n",
              "      <td>11.370</td>\n",
              "      <td>202</td>\n",
              "      <td>1</td>\n",
              "      <td>0</td>\n",
              "      <td>0</td>\n",
              "      <td>0</td>\n",
              "      <td>0</td>\n",
              "      <td>0</td>\n",
              "      <td>0</td>\n",
              "      <td>0</td>\n",
              "    </tr>\n",
              "    <tr>\n",
              "      <th>1</th>\n",
              "      <td>0</td>\n",
              "      <td>0</td>\n",
              "      <td>1</td>\n",
              "      <td>0</td>\n",
              "      <td>0</td>\n",
              "      <td>0</td>\n",
              "      <td>0</td>\n",
              "      <td>0</td>\n",
              "      <td>0</td>\n",
              "      <td>0</td>\n",
              "      <td>0</td>\n",
              "      <td>10.504</td>\n",
              "      <td>202</td>\n",
              "      <td>1</td>\n",
              "      <td>0</td>\n",
              "      <td>0</td>\n",
              "      <td>0</td>\n",
              "      <td>1</td>\n",
              "      <td>0</td>\n",
              "      <td>0</td>\n",
              "      <td>1</td>\n",
              "    </tr>\n",
              "    <tr>\n",
              "      <th>2</th>\n",
              "      <td>0</td>\n",
              "      <td>0</td>\n",
              "      <td>1</td>\n",
              "      <td>0</td>\n",
              "      <td>0</td>\n",
              "      <td>0</td>\n",
              "      <td>0</td>\n",
              "      <td>0</td>\n",
              "      <td>0</td>\n",
              "      <td>0</td>\n",
              "      <td>0</td>\n",
              "      <td>13.256</td>\n",
              "      <td>255</td>\n",
              "      <td>1</td>\n",
              "      <td>0</td>\n",
              "      <td>0</td>\n",
              "      <td>0</td>\n",
              "      <td>48</td>\n",
              "      <td>0</td>\n",
              "      <td>0</td>\n",
              "      <td>1</td>\n",
              "    </tr>\n",
              "    <tr>\n",
              "      <th>3</th>\n",
              "      <td>0</td>\n",
              "      <td>0</td>\n",
              "      <td>1</td>\n",
              "      <td>0</td>\n",
              "      <td>0</td>\n",
              "      <td>0</td>\n",
              "      <td>0</td>\n",
              "      <td>0</td>\n",
              "      <td>0</td>\n",
              "      <td>0</td>\n",
              "      <td>2</td>\n",
              "      <td>1.231</td>\n",
              "      <td>29</td>\n",
              "      <td>0</td>\n",
              "      <td>0</td>\n",
              "      <td>0</td>\n",
              "      <td>0</td>\n",
              "      <td>1</td>\n",
              "      <td>0</td>\n",
              "      <td>1</td>\n",
              "      <td>0</td>\n",
              "    </tr>\n",
              "    <tr>\n",
              "      <th>4</th>\n",
              "      <td>0</td>\n",
              "      <td>0</td>\n",
              "      <td>1</td>\n",
              "      <td>0</td>\n",
              "      <td>0</td>\n",
              "      <td>0</td>\n",
              "      <td>0</td>\n",
              "      <td>0</td>\n",
              "      <td>0</td>\n",
              "      <td>0</td>\n",
              "      <td>2</td>\n",
              "      <td>1.091</td>\n",
              "      <td>25</td>\n",
              "      <td>0</td>\n",
              "      <td>0</td>\n",
              "      <td>0</td>\n",
              "      <td>0</td>\n",
              "      <td>1</td>\n",
              "      <td>0</td>\n",
              "      <td>1</td>\n",
              "      <td>0</td>\n",
              "    </tr>\n",
              "  </tbody>\n",
              "</table>\n",
              "</div>\n",
              "      <button class=\"colab-df-convert\" onclick=\"convertToInteractive('df-ff91f953-c7f3-4a96-8b9d-f1eab5c4dde2')\"\n",
              "              title=\"Convert this dataframe to an interactive table.\"\n",
              "              style=\"display:none;\">\n",
              "        \n",
              "  <svg xmlns=\"http://www.w3.org/2000/svg\" height=\"24px\"viewBox=\"0 0 24 24\"\n",
              "       width=\"24px\">\n",
              "    <path d=\"M0 0h24v24H0V0z\" fill=\"none\"/>\n",
              "    <path d=\"M18.56 5.44l.94 2.06.94-2.06 2.06-.94-2.06-.94-.94-2.06-.94 2.06-2.06.94zm-11 1L8.5 8.5l.94-2.06 2.06-.94-2.06-.94L8.5 2.5l-.94 2.06-2.06.94zm10 10l.94 2.06.94-2.06 2.06-.94-2.06-.94-.94-2.06-.94 2.06-2.06.94z\"/><path d=\"M17.41 7.96l-1.37-1.37c-.4-.4-.92-.59-1.43-.59-.52 0-1.04.2-1.43.59L10.3 9.45l-7.72 7.72c-.78.78-.78 2.05 0 2.83L4 21.41c.39.39.9.59 1.41.59.51 0 1.02-.2 1.41-.59l7.78-7.78 2.81-2.81c.8-.78.8-2.07 0-2.86zM5.41 20L4 18.59l7.72-7.72 1.47 1.35L5.41 20z\"/>\n",
              "  </svg>\n",
              "      </button>\n",
              "      \n",
              "  <style>\n",
              "    .colab-df-container {\n",
              "      display:flex;\n",
              "      flex-wrap:wrap;\n",
              "      gap: 12px;\n",
              "    }\n",
              "\n",
              "    .colab-df-convert {\n",
              "      background-color: #E8F0FE;\n",
              "      border: none;\n",
              "      border-radius: 50%;\n",
              "      cursor: pointer;\n",
              "      display: none;\n",
              "      fill: #1967D2;\n",
              "      height: 32px;\n",
              "      padding: 0 0 0 0;\n",
              "      width: 32px;\n",
              "    }\n",
              "\n",
              "    .colab-df-convert:hover {\n",
              "      background-color: #E2EBFA;\n",
              "      box-shadow: 0px 1px 2px rgba(60, 64, 67, 0.3), 0px 1px 3px 1px rgba(60, 64, 67, 0.15);\n",
              "      fill: #174EA6;\n",
              "    }\n",
              "\n",
              "    [theme=dark] .colab-df-convert {\n",
              "      background-color: #3B4455;\n",
              "      fill: #D2E3FC;\n",
              "    }\n",
              "\n",
              "    [theme=dark] .colab-df-convert:hover {\n",
              "      background-color: #434B5C;\n",
              "      box-shadow: 0px 1px 3px 1px rgba(0, 0, 0, 0.15);\n",
              "      filter: drop-shadow(0px 1px 2px rgba(0, 0, 0, 0.3));\n",
              "      fill: #FFFFFF;\n",
              "    }\n",
              "  </style>\n",
              "\n",
              "      <script>\n",
              "        const buttonEl =\n",
              "          document.querySelector('#df-ff91f953-c7f3-4a96-8b9d-f1eab5c4dde2 button.colab-df-convert');\n",
              "        buttonEl.style.display =\n",
              "          google.colab.kernel.accessAllowed ? 'block' : 'none';\n",
              "\n",
              "        async function convertToInteractive(key) {\n",
              "          const element = document.querySelector('#df-ff91f953-c7f3-4a96-8b9d-f1eab5c4dde2');\n",
              "          const dataTable =\n",
              "            await google.colab.kernel.invokeFunction('convertToInteractive',\n",
              "                                                     [key], {});\n",
              "          if (!dataTable) return;\n",
              "\n",
              "          const docLinkHtml = 'Like what you see? Visit the ' +\n",
              "            '<a target=\"_blank\" href=https://colab.research.google.com/notebooks/data_table.ipynb>data table notebook</a>'\n",
              "            + ' to learn more about interactive tables.';\n",
              "          element.innerHTML = '';\n",
              "          dataTable['output_type'] = 'display_data';\n",
              "          await google.colab.output.renderOutput(dataTable, element);\n",
              "          const docLink = document.createElement('div');\n",
              "          docLink.innerHTML = docLinkHtml;\n",
              "          element.appendChild(docLink);\n",
              "        }\n",
              "      </script>\n",
              "    </div>\n",
              "  </div>\n",
              "  "
            ],
            "text/plain": [
              "   spam  to_multiple  from  ...  winner_yes  number_none  number_small\n",
              "0     0            0     1  ...           0            0             0\n",
              "1     0            0     1  ...           0            0             1\n",
              "2     0            0     1  ...           0            0             1\n",
              "3     0            0     1  ...           0            1             0\n",
              "4     0            0     1  ...           0            1             0\n",
              "\n",
              "[5 rows x 21 columns]"
            ]
          },
          "metadata": {},
          "execution_count": 31
        }
      ]
    },
    {
      "cell_type": "code",
      "source": [
        "data_test=pd.get_dummies(data=data_test,columns= ['winner'], drop_first=True)\n",
        "data_test=pd.get_dummies(data=data_test,columns= ['number'], drop_first=True)\n",
        "data_test.head()"
      ],
      "metadata": {
        "colab": {
          "base_uri": "https://localhost:8080/",
          "height": 270
        },
        "id": "bYLm7dGfIfQm",
        "outputId": "71dc95f5-9a2a-466d-8025-d839ff4f2c28"
      },
      "execution_count": null,
      "outputs": [
        {
          "output_type": "execute_result",
          "data": {
            "text/html": [
              "\n",
              "  <div id=\"df-45b468b7-6b27-4dfd-b180-ea3509f15883\">\n",
              "    <div class=\"colab-df-container\">\n",
              "      <div>\n",
              "<style scoped>\n",
              "    .dataframe tbody tr th:only-of-type {\n",
              "        vertical-align: middle;\n",
              "    }\n",
              "\n",
              "    .dataframe tbody tr th {\n",
              "        vertical-align: top;\n",
              "    }\n",
              "\n",
              "    .dataframe thead th {\n",
              "        text-align: right;\n",
              "    }\n",
              "</style>\n",
              "<table border=\"1\" class=\"dataframe\">\n",
              "  <thead>\n",
              "    <tr style=\"text-align: right;\">\n",
              "      <th></th>\n",
              "      <th>spam</th>\n",
              "      <th>to_multiple</th>\n",
              "      <th>from</th>\n",
              "      <th>cc</th>\n",
              "      <th>sent_email</th>\n",
              "      <th>image</th>\n",
              "      <th>attach</th>\n",
              "      <th>dollar</th>\n",
              "      <th>inherit</th>\n",
              "      <th>viagra</th>\n",
              "      <th>password</th>\n",
              "      <th>num_char</th>\n",
              "      <th>line_breaks</th>\n",
              "      <th>format</th>\n",
              "      <th>re_subj</th>\n",
              "      <th>exclaim_subj</th>\n",
              "      <th>urgent_subj</th>\n",
              "      <th>exclaim_mess</th>\n",
              "      <th>winner_yes</th>\n",
              "      <th>number_none</th>\n",
              "      <th>number_small</th>\n",
              "    </tr>\n",
              "  </thead>\n",
              "  <tbody>\n",
              "    <tr>\n",
              "      <th>0</th>\n",
              "      <td>1</td>\n",
              "      <td>0</td>\n",
              "      <td>1</td>\n",
              "      <td>0</td>\n",
              "      <td>0</td>\n",
              "      <td>0</td>\n",
              "      <td>0</td>\n",
              "      <td>0</td>\n",
              "      <td>0</td>\n",
              "      <td>0</td>\n",
              "      <td>0</td>\n",
              "      <td>20.133</td>\n",
              "      <td>364</td>\n",
              "      <td>1</td>\n",
              "      <td>0</td>\n",
              "      <td>0</td>\n",
              "      <td>0</td>\n",
              "      <td>8</td>\n",
              "      <td>0</td>\n",
              "      <td>0</td>\n",
              "      <td>1</td>\n",
              "    </tr>\n",
              "    <tr>\n",
              "      <th>1</th>\n",
              "      <td>1</td>\n",
              "      <td>0</td>\n",
              "      <td>1</td>\n",
              "      <td>0</td>\n",
              "      <td>0</td>\n",
              "      <td>0</td>\n",
              "      <td>0</td>\n",
              "      <td>0</td>\n",
              "      <td>0</td>\n",
              "      <td>0</td>\n",
              "      <td>0</td>\n",
              "      <td>3.796</td>\n",
              "      <td>71</td>\n",
              "      <td>1</td>\n",
              "      <td>0</td>\n",
              "      <td>0</td>\n",
              "      <td>0</td>\n",
              "      <td>4</td>\n",
              "      <td>0</td>\n",
              "      <td>0</td>\n",
              "      <td>1</td>\n",
              "    </tr>\n",
              "    <tr>\n",
              "      <th>2</th>\n",
              "      <td>1</td>\n",
              "      <td>0</td>\n",
              "      <td>1</td>\n",
              "      <td>0</td>\n",
              "      <td>0</td>\n",
              "      <td>0</td>\n",
              "      <td>0</td>\n",
              "      <td>0</td>\n",
              "      <td>0</td>\n",
              "      <td>0</td>\n",
              "      <td>0</td>\n",
              "      <td>2.705</td>\n",
              "      <td>35</td>\n",
              "      <td>1</td>\n",
              "      <td>0</td>\n",
              "      <td>0</td>\n",
              "      <td>0</td>\n",
              "      <td>0</td>\n",
              "      <td>0</td>\n",
              "      <td>1</td>\n",
              "      <td>0</td>\n",
              "    </tr>\n",
              "    <tr>\n",
              "      <th>3</th>\n",
              "      <td>1</td>\n",
              "      <td>0</td>\n",
              "      <td>1</td>\n",
              "      <td>4</td>\n",
              "      <td>0</td>\n",
              "      <td>0</td>\n",
              "      <td>2</td>\n",
              "      <td>0</td>\n",
              "      <td>0</td>\n",
              "      <td>0</td>\n",
              "      <td>0</td>\n",
              "      <td>0.537</td>\n",
              "      <td>22</td>\n",
              "      <td>0</td>\n",
              "      <td>0</td>\n",
              "      <td>0</td>\n",
              "      <td>0</td>\n",
              "      <td>3</td>\n",
              "      <td>0</td>\n",
              "      <td>0</td>\n",
              "      <td>1</td>\n",
              "    </tr>\n",
              "    <tr>\n",
              "      <th>4</th>\n",
              "      <td>1</td>\n",
              "      <td>0</td>\n",
              "      <td>1</td>\n",
              "      <td>0</td>\n",
              "      <td>0</td>\n",
              "      <td>0</td>\n",
              "      <td>0</td>\n",
              "      <td>0</td>\n",
              "      <td>0</td>\n",
              "      <td>0</td>\n",
              "      <td>0</td>\n",
              "      <td>4.174</td>\n",
              "      <td>2</td>\n",
              "      <td>0</td>\n",
              "      <td>0</td>\n",
              "      <td>0</td>\n",
              "      <td>0</td>\n",
              "      <td>0</td>\n",
              "      <td>0</td>\n",
              "      <td>1</td>\n",
              "      <td>0</td>\n",
              "    </tr>\n",
              "  </tbody>\n",
              "</table>\n",
              "</div>\n",
              "      <button class=\"colab-df-convert\" onclick=\"convertToInteractive('df-45b468b7-6b27-4dfd-b180-ea3509f15883')\"\n",
              "              title=\"Convert this dataframe to an interactive table.\"\n",
              "              style=\"display:none;\">\n",
              "        \n",
              "  <svg xmlns=\"http://www.w3.org/2000/svg\" height=\"24px\"viewBox=\"0 0 24 24\"\n",
              "       width=\"24px\">\n",
              "    <path d=\"M0 0h24v24H0V0z\" fill=\"none\"/>\n",
              "    <path d=\"M18.56 5.44l.94 2.06.94-2.06 2.06-.94-2.06-.94-.94-2.06-.94 2.06-2.06.94zm-11 1L8.5 8.5l.94-2.06 2.06-.94-2.06-.94L8.5 2.5l-.94 2.06-2.06.94zm10 10l.94 2.06.94-2.06 2.06-.94-2.06-.94-.94-2.06-.94 2.06-2.06.94z\"/><path d=\"M17.41 7.96l-1.37-1.37c-.4-.4-.92-.59-1.43-.59-.52 0-1.04.2-1.43.59L10.3 9.45l-7.72 7.72c-.78.78-.78 2.05 0 2.83L4 21.41c.39.39.9.59 1.41.59.51 0 1.02-.2 1.41-.59l7.78-7.78 2.81-2.81c.8-.78.8-2.07 0-2.86zM5.41 20L4 18.59l7.72-7.72 1.47 1.35L5.41 20z\"/>\n",
              "  </svg>\n",
              "      </button>\n",
              "      \n",
              "  <style>\n",
              "    .colab-df-container {\n",
              "      display:flex;\n",
              "      flex-wrap:wrap;\n",
              "      gap: 12px;\n",
              "    }\n",
              "\n",
              "    .colab-df-convert {\n",
              "      background-color: #E8F0FE;\n",
              "      border: none;\n",
              "      border-radius: 50%;\n",
              "      cursor: pointer;\n",
              "      display: none;\n",
              "      fill: #1967D2;\n",
              "      height: 32px;\n",
              "      padding: 0 0 0 0;\n",
              "      width: 32px;\n",
              "    }\n",
              "\n",
              "    .colab-df-convert:hover {\n",
              "      background-color: #E2EBFA;\n",
              "      box-shadow: 0px 1px 2px rgba(60, 64, 67, 0.3), 0px 1px 3px 1px rgba(60, 64, 67, 0.15);\n",
              "      fill: #174EA6;\n",
              "    }\n",
              "\n",
              "    [theme=dark] .colab-df-convert {\n",
              "      background-color: #3B4455;\n",
              "      fill: #D2E3FC;\n",
              "    }\n",
              "\n",
              "    [theme=dark] .colab-df-convert:hover {\n",
              "      background-color: #434B5C;\n",
              "      box-shadow: 0px 1px 3px 1px rgba(0, 0, 0, 0.15);\n",
              "      filter: drop-shadow(0px 1px 2px rgba(0, 0, 0, 0.3));\n",
              "      fill: #FFFFFF;\n",
              "    }\n",
              "  </style>\n",
              "\n",
              "      <script>\n",
              "        const buttonEl =\n",
              "          document.querySelector('#df-45b468b7-6b27-4dfd-b180-ea3509f15883 button.colab-df-convert');\n",
              "        buttonEl.style.display =\n",
              "          google.colab.kernel.accessAllowed ? 'block' : 'none';\n",
              "\n",
              "        async function convertToInteractive(key) {\n",
              "          const element = document.querySelector('#df-45b468b7-6b27-4dfd-b180-ea3509f15883');\n",
              "          const dataTable =\n",
              "            await google.colab.kernel.invokeFunction('convertToInteractive',\n",
              "                                                     [key], {});\n",
              "          if (!dataTable) return;\n",
              "\n",
              "          const docLinkHtml = 'Like what you see? Visit the ' +\n",
              "            '<a target=\"_blank\" href=https://colab.research.google.com/notebooks/data_table.ipynb>data table notebook</a>'\n",
              "            + ' to learn more about interactive tables.';\n",
              "          element.innerHTML = '';\n",
              "          dataTable['output_type'] = 'display_data';\n",
              "          await google.colab.output.renderOutput(dataTable, element);\n",
              "          const docLink = document.createElement('div');\n",
              "          docLink.innerHTML = docLinkHtml;\n",
              "          element.appendChild(docLink);\n",
              "        }\n",
              "      </script>\n",
              "    </div>\n",
              "  </div>\n",
              "  "
            ],
            "text/plain": [
              "   spam  to_multiple  from  ...  winner_yes  number_none  number_small\n",
              "0     1            0     1  ...           0            0             1\n",
              "1     1            0     1  ...           0            0             1\n",
              "2     1            0     1  ...           0            1             0\n",
              "3     1            0     1  ...           0            0             1\n",
              "4     1            0     1  ...           0            1             0\n",
              "\n",
              "[5 rows x 21 columns]"
            ]
          },
          "metadata": {},
          "execution_count": 32
        }
      ]
    },
    {
      "cell_type": "code",
      "source": [
        "data_train.describe()"
      ],
      "metadata": {
        "colab": {
          "base_uri": "https://localhost:8080/",
          "height": 364
        },
        "id": "c4OytYm4cflY",
        "outputId": "85d39030-cfcb-4acb-8139-dee1b3af939a"
      },
      "execution_count": null,
      "outputs": [
        {
          "output_type": "execute_result",
          "data": {
            "text/html": [
              "\n",
              "  <div id=\"df-24d81c67-66cd-4a87-9c1e-289017d51a4f\">\n",
              "    <div class=\"colab-df-container\">\n",
              "      <div>\n",
              "<style scoped>\n",
              "    .dataframe tbody tr th:only-of-type {\n",
              "        vertical-align: middle;\n",
              "    }\n",
              "\n",
              "    .dataframe tbody tr th {\n",
              "        vertical-align: top;\n",
              "    }\n",
              "\n",
              "    .dataframe thead th {\n",
              "        text-align: right;\n",
              "    }\n",
              "</style>\n",
              "<table border=\"1\" class=\"dataframe\">\n",
              "  <thead>\n",
              "    <tr style=\"text-align: right;\">\n",
              "      <th></th>\n",
              "      <th>spam</th>\n",
              "      <th>to_multiple</th>\n",
              "      <th>from</th>\n",
              "      <th>cc</th>\n",
              "      <th>sent_email</th>\n",
              "      <th>image</th>\n",
              "      <th>attach</th>\n",
              "      <th>dollar</th>\n",
              "      <th>inherit</th>\n",
              "      <th>viagra</th>\n",
              "      <th>password</th>\n",
              "      <th>num_char</th>\n",
              "      <th>line_breaks</th>\n",
              "      <th>format</th>\n",
              "      <th>re_subj</th>\n",
              "      <th>exclaim_subj</th>\n",
              "      <th>urgent_subj</th>\n",
              "      <th>exclaim_mess</th>\n",
              "      <th>winner_yes</th>\n",
              "      <th>number_none</th>\n",
              "      <th>number_small</th>\n",
              "    </tr>\n",
              "  </thead>\n",
              "  <tbody>\n",
              "    <tr>\n",
              "      <th>count</th>\n",
              "      <td>3136.000000</td>\n",
              "      <td>3136.000000</td>\n",
              "      <td>3136.000000</td>\n",
              "      <td>3136.000000</td>\n",
              "      <td>3136.000000</td>\n",
              "      <td>3136.000000</td>\n",
              "      <td>3136.000000</td>\n",
              "      <td>3136.000000</td>\n",
              "      <td>3136.000000</td>\n",
              "      <td>3136.000000</td>\n",
              "      <td>3136.000000</td>\n",
              "      <td>3136.000000</td>\n",
              "      <td>3136.000000</td>\n",
              "      <td>3136.000000</td>\n",
              "      <td>3136.000000</td>\n",
              "      <td>3136.000000</td>\n",
              "      <td>3136.000000</td>\n",
              "      <td>3136.000000</td>\n",
              "      <td>3136.000000</td>\n",
              "      <td>3136.000000</td>\n",
              "      <td>3136.000000</td>\n",
              "    </tr>\n",
              "    <tr>\n",
              "      <th>mean</th>\n",
              "      <td>0.093750</td>\n",
              "      <td>0.162946</td>\n",
              "      <td>0.999362</td>\n",
              "      <td>0.398916</td>\n",
              "      <td>0.266263</td>\n",
              "      <td>0.043048</td>\n",
              "      <td>0.128827</td>\n",
              "      <td>1.425383</td>\n",
              "      <td>0.035395</td>\n",
              "      <td>0.002551</td>\n",
              "      <td>0.109375</td>\n",
              "      <td>10.900418</td>\n",
              "      <td>234.274235</td>\n",
              "      <td>0.695153</td>\n",
              "      <td>0.252232</td>\n",
              "      <td>0.079719</td>\n",
              "      <td>0.002232</td>\n",
              "      <td>6.673151</td>\n",
              "      <td>0.015306</td>\n",
              "      <td>0.139668</td>\n",
              "      <td>0.724171</td>\n",
              "    </tr>\n",
              "    <tr>\n",
              "      <th>std</th>\n",
              "      <td>0.291527</td>\n",
              "      <td>0.369376</td>\n",
              "      <td>0.025250</td>\n",
              "      <td>2.618421</td>\n",
              "      <td>0.442074</td>\n",
              "      <td>0.441539</td>\n",
              "      <td>0.743275</td>\n",
              "      <td>4.734028</td>\n",
              "      <td>0.259475</td>\n",
              "      <td>0.142857</td>\n",
              "      <td>1.028693</td>\n",
              "      <td>14.876602</td>\n",
              "      <td>321.446484</td>\n",
              "      <td>0.460416</td>\n",
              "      <td>0.434363</td>\n",
              "      <td>0.270901</td>\n",
              "      <td>0.047200</td>\n",
              "      <td>52.684811</td>\n",
              "      <td>0.122787</td>\n",
              "      <td>0.346698</td>\n",
              "      <td>0.447002</td>\n",
              "    </tr>\n",
              "    <tr>\n",
              "      <th>min</th>\n",
              "      <td>0.000000</td>\n",
              "      <td>0.000000</td>\n",
              "      <td>0.000000</td>\n",
              "      <td>0.000000</td>\n",
              "      <td>0.000000</td>\n",
              "      <td>0.000000</td>\n",
              "      <td>0.000000</td>\n",
              "      <td>0.000000</td>\n",
              "      <td>0.000000</td>\n",
              "      <td>0.000000</td>\n",
              "      <td>0.000000</td>\n",
              "      <td>0.001000</td>\n",
              "      <td>1.000000</td>\n",
              "      <td>0.000000</td>\n",
              "      <td>0.000000</td>\n",
              "      <td>0.000000</td>\n",
              "      <td>0.000000</td>\n",
              "      <td>0.000000</td>\n",
              "      <td>0.000000</td>\n",
              "      <td>0.000000</td>\n",
              "      <td>0.000000</td>\n",
              "    </tr>\n",
              "    <tr>\n",
              "      <th>25%</th>\n",
              "      <td>0.000000</td>\n",
              "      <td>0.000000</td>\n",
              "      <td>1.000000</td>\n",
              "      <td>0.000000</td>\n",
              "      <td>0.000000</td>\n",
              "      <td>0.000000</td>\n",
              "      <td>0.000000</td>\n",
              "      <td>0.000000</td>\n",
              "      <td>0.000000</td>\n",
              "      <td>0.000000</td>\n",
              "      <td>0.000000</td>\n",
              "      <td>1.499000</td>\n",
              "      <td>34.000000</td>\n",
              "      <td>0.000000</td>\n",
              "      <td>0.000000</td>\n",
              "      <td>0.000000</td>\n",
              "      <td>0.000000</td>\n",
              "      <td>0.000000</td>\n",
              "      <td>0.000000</td>\n",
              "      <td>0.000000</td>\n",
              "      <td>0.000000</td>\n",
              "    </tr>\n",
              "    <tr>\n",
              "      <th>50%</th>\n",
              "      <td>0.000000</td>\n",
              "      <td>0.000000</td>\n",
              "      <td>1.000000</td>\n",
              "      <td>0.000000</td>\n",
              "      <td>0.000000</td>\n",
              "      <td>0.000000</td>\n",
              "      <td>0.000000</td>\n",
              "      <td>0.000000</td>\n",
              "      <td>0.000000</td>\n",
              "      <td>0.000000</td>\n",
              "      <td>0.000000</td>\n",
              "      <td>6.060500</td>\n",
              "      <td>124.500000</td>\n",
              "      <td>1.000000</td>\n",
              "      <td>0.000000</td>\n",
              "      <td>0.000000</td>\n",
              "      <td>0.000000</td>\n",
              "      <td>1.000000</td>\n",
              "      <td>0.000000</td>\n",
              "      <td>0.000000</td>\n",
              "      <td>1.000000</td>\n",
              "    </tr>\n",
              "    <tr>\n",
              "      <th>75%</th>\n",
              "      <td>0.000000</td>\n",
              "      <td>0.000000</td>\n",
              "      <td>1.000000</td>\n",
              "      <td>0.000000</td>\n",
              "      <td>1.000000</td>\n",
              "      <td>0.000000</td>\n",
              "      <td>0.000000</td>\n",
              "      <td>0.000000</td>\n",
              "      <td>0.000000</td>\n",
              "      <td>0.000000</td>\n",
              "      <td>0.000000</td>\n",
              "      <td>14.538250</td>\n",
              "      <td>305.250000</td>\n",
              "      <td>1.000000</td>\n",
              "      <td>1.000000</td>\n",
              "      <td>0.000000</td>\n",
              "      <td>0.000000</td>\n",
              "      <td>4.000000</td>\n",
              "      <td>0.000000</td>\n",
              "      <td>0.000000</td>\n",
              "      <td>1.000000</td>\n",
              "    </tr>\n",
              "    <tr>\n",
              "      <th>max</th>\n",
              "      <td>1.000000</td>\n",
              "      <td>1.000000</td>\n",
              "      <td>1.000000</td>\n",
              "      <td>64.000000</td>\n",
              "      <td>1.000000</td>\n",
              "      <td>20.000000</td>\n",
              "      <td>21.000000</td>\n",
              "      <td>64.000000</td>\n",
              "      <td>9.000000</td>\n",
              "      <td>8.000000</td>\n",
              "      <td>28.000000</td>\n",
              "      <td>190.087000</td>\n",
              "      <td>4022.000000</td>\n",
              "      <td>1.000000</td>\n",
              "      <td>1.000000</td>\n",
              "      <td>1.000000</td>\n",
              "      <td>1.000000</td>\n",
              "      <td>1236.000000</td>\n",
              "      <td>1.000000</td>\n",
              "      <td>1.000000</td>\n",
              "      <td>1.000000</td>\n",
              "    </tr>\n",
              "  </tbody>\n",
              "</table>\n",
              "</div>\n",
              "      <button class=\"colab-df-convert\" onclick=\"convertToInteractive('df-24d81c67-66cd-4a87-9c1e-289017d51a4f')\"\n",
              "              title=\"Convert this dataframe to an interactive table.\"\n",
              "              style=\"display:none;\">\n",
              "        \n",
              "  <svg xmlns=\"http://www.w3.org/2000/svg\" height=\"24px\"viewBox=\"0 0 24 24\"\n",
              "       width=\"24px\">\n",
              "    <path d=\"M0 0h24v24H0V0z\" fill=\"none\"/>\n",
              "    <path d=\"M18.56 5.44l.94 2.06.94-2.06 2.06-.94-2.06-.94-.94-2.06-.94 2.06-2.06.94zm-11 1L8.5 8.5l.94-2.06 2.06-.94-2.06-.94L8.5 2.5l-.94 2.06-2.06.94zm10 10l.94 2.06.94-2.06 2.06-.94-2.06-.94-.94-2.06-.94 2.06-2.06.94z\"/><path d=\"M17.41 7.96l-1.37-1.37c-.4-.4-.92-.59-1.43-.59-.52 0-1.04.2-1.43.59L10.3 9.45l-7.72 7.72c-.78.78-.78 2.05 0 2.83L4 21.41c.39.39.9.59 1.41.59.51 0 1.02-.2 1.41-.59l7.78-7.78 2.81-2.81c.8-.78.8-2.07 0-2.86zM5.41 20L4 18.59l7.72-7.72 1.47 1.35L5.41 20z\"/>\n",
              "  </svg>\n",
              "      </button>\n",
              "      \n",
              "  <style>\n",
              "    .colab-df-container {\n",
              "      display:flex;\n",
              "      flex-wrap:wrap;\n",
              "      gap: 12px;\n",
              "    }\n",
              "\n",
              "    .colab-df-convert {\n",
              "      background-color: #E8F0FE;\n",
              "      border: none;\n",
              "      border-radius: 50%;\n",
              "      cursor: pointer;\n",
              "      display: none;\n",
              "      fill: #1967D2;\n",
              "      height: 32px;\n",
              "      padding: 0 0 0 0;\n",
              "      width: 32px;\n",
              "    }\n",
              "\n",
              "    .colab-df-convert:hover {\n",
              "      background-color: #E2EBFA;\n",
              "      box-shadow: 0px 1px 2px rgba(60, 64, 67, 0.3), 0px 1px 3px 1px rgba(60, 64, 67, 0.15);\n",
              "      fill: #174EA6;\n",
              "    }\n",
              "\n",
              "    [theme=dark] .colab-df-convert {\n",
              "      background-color: #3B4455;\n",
              "      fill: #D2E3FC;\n",
              "    }\n",
              "\n",
              "    [theme=dark] .colab-df-convert:hover {\n",
              "      background-color: #434B5C;\n",
              "      box-shadow: 0px 1px 3px 1px rgba(0, 0, 0, 0.15);\n",
              "      filter: drop-shadow(0px 1px 2px rgba(0, 0, 0, 0.3));\n",
              "      fill: #FFFFFF;\n",
              "    }\n",
              "  </style>\n",
              "\n",
              "      <script>\n",
              "        const buttonEl =\n",
              "          document.querySelector('#df-24d81c67-66cd-4a87-9c1e-289017d51a4f button.colab-df-convert');\n",
              "        buttonEl.style.display =\n",
              "          google.colab.kernel.accessAllowed ? 'block' : 'none';\n",
              "\n",
              "        async function convertToInteractive(key) {\n",
              "          const element = document.querySelector('#df-24d81c67-66cd-4a87-9c1e-289017d51a4f');\n",
              "          const dataTable =\n",
              "            await google.colab.kernel.invokeFunction('convertToInteractive',\n",
              "                                                     [key], {});\n",
              "          if (!dataTable) return;\n",
              "\n",
              "          const docLinkHtml = 'Like what you see? Visit the ' +\n",
              "            '<a target=\"_blank\" href=https://colab.research.google.com/notebooks/data_table.ipynb>data table notebook</a>'\n",
              "            + ' to learn more about interactive tables.';\n",
              "          element.innerHTML = '';\n",
              "          dataTable['output_type'] = 'display_data';\n",
              "          await google.colab.output.renderOutput(dataTable, element);\n",
              "          const docLink = document.createElement('div');\n",
              "          docLink.innerHTML = docLinkHtml;\n",
              "          element.appendChild(docLink);\n",
              "        }\n",
              "      </script>\n",
              "    </div>\n",
              "  </div>\n",
              "  "
            ],
            "text/plain": [
              "              spam  to_multiple  ...  number_none  number_small\n",
              "count  3136.000000  3136.000000  ...  3136.000000   3136.000000\n",
              "mean      0.093750     0.162946  ...     0.139668      0.724171\n",
              "std       0.291527     0.369376  ...     0.346698      0.447002\n",
              "min       0.000000     0.000000  ...     0.000000      0.000000\n",
              "25%       0.000000     0.000000  ...     0.000000      0.000000\n",
              "50%       0.000000     0.000000  ...     0.000000      1.000000\n",
              "75%       0.000000     0.000000  ...     0.000000      1.000000\n",
              "max       1.000000     1.000000  ...     1.000000      1.000000\n",
              "\n",
              "[8 rows x 21 columns]"
            ]
          },
          "metadata": {},
          "execution_count": 33
        }
      ]
    },
    {
      "cell_type": "code",
      "source": [
        "pip install seaborn"
      ],
      "metadata": {
        "colab": {
          "base_uri": "https://localhost:8080/"
        },
        "id": "ZepKYGH730g6",
        "outputId": "1af79ee4-fa1d-46ad-b141-3e93c5c81e80"
      },
      "execution_count": null,
      "outputs": [
        {
          "output_type": "stream",
          "name": "stdout",
          "text": [
            "Requirement already satisfied: seaborn in /usr/local/lib/python3.7/dist-packages (0.11.2)\n",
            "Requirement already satisfied: scipy>=1.0 in /usr/local/lib/python3.7/dist-packages (from seaborn) (1.4.1)\n",
            "Requirement already satisfied: matplotlib>=2.2 in /usr/local/lib/python3.7/dist-packages (from seaborn) (3.2.2)\n",
            "Requirement already satisfied: pandas>=0.23 in /usr/local/lib/python3.7/dist-packages (from seaborn) (1.1.5)\n",
            "Requirement already satisfied: numpy>=1.15 in /usr/local/lib/python3.7/dist-packages (from seaborn) (1.19.5)\n",
            "Requirement already satisfied: pyparsing!=2.0.4,!=2.1.2,!=2.1.6,>=2.0.1 in /usr/local/lib/python3.7/dist-packages (from matplotlib>=2.2->seaborn) (3.0.6)\n",
            "Requirement already satisfied: python-dateutil>=2.1 in /usr/local/lib/python3.7/dist-packages (from matplotlib>=2.2->seaborn) (2.8.2)\n",
            "Requirement already satisfied: cycler>=0.10 in /usr/local/lib/python3.7/dist-packages (from matplotlib>=2.2->seaborn) (0.11.0)\n",
            "Requirement already satisfied: kiwisolver>=1.0.1 in /usr/local/lib/python3.7/dist-packages (from matplotlib>=2.2->seaborn) (1.3.2)\n",
            "Requirement already satisfied: pytz>=2017.2 in /usr/local/lib/python3.7/dist-packages (from pandas>=0.23->seaborn) (2018.9)\n",
            "Requirement already satisfied: six>=1.5 in /usr/local/lib/python3.7/dist-packages (from python-dateutil>=2.1->matplotlib>=2.2->seaborn) (1.15.0)\n"
          ]
        }
      ]
    },
    {
      "cell_type": "code",
      "source": [
        "import seaborn as sns\n",
        "corr=data_test.corr()\n",
        "sns.set(rc = {'figure.figsize':(20,9)})\n",
        "sns.heatmap(corr, annot=True)"
      ],
      "metadata": {
        "colab": {
          "base_uri": "https://localhost:8080/",
          "height": 539
        },
        "id": "X0hmBOKBX53o",
        "outputId": "0b79fb5d-8485-444a-8eaa-1e5dbbf11b7e"
      },
      "execution_count": null,
      "outputs": [
        {
          "output_type": "execute_result",
          "data": {
            "text/plain": [
              "<matplotlib.axes._subplots.AxesSubplot at 0x7f0b46038690>"
            ]
          },
          "metadata": {},
          "execution_count": 34
        },
        {
          "output_type": "display_data",
          "data": {
            "image/png": "[encoded data removed]",
            "text/plain": [
              "<Figure size 1440x648 with 2 Axes>"
            ]
          },
          "metadata": {}
        }
      ]
    },
    {
      "cell_type": "code",
      "source": [
        "Y = data_train[\"spam\"]\n",
        "features=[\"to_multiple\", \"from\", \"cc\", \"sent_email\", \"image\", \"dollar\", \"inherit\", \"viagra\", \"password\", \"num_char\", \n",
        "          \"num_char\", \"line_breaks\", \"format\", \"re_subj\", \"exclaim_subj\", \"urgent_subj\", \"exclaim_mess\", \"winner_yes\",\n",
        "          \"number_none\", \"number_small\"]\n",
        "X = data_train[features]"
      ],
      "metadata": {
        "id": "j-mTj06ify4e"
      },
      "execution_count": null,
      "outputs": []
    },
    {
      "cell_type": "markdown",
      "source": [
        "b) Classification Models using trainig data"
      ],
      "metadata": {
        "id": "e7Ln7uybLPai"
      }
    },
    {
      "cell_type": "code",
      "source": [
        "from sklearn.model_selection import train_test_split\n",
        "from sklearn.naive_bayes import GaussianNB\n",
        "from sklearn.linear_model import LogisticRegression\n",
        "from sklearn.svm import SVC\n",
        "from sklearn.tree import DecisionTreeClassifier\n",
        "from sklearn.ensemble import RandomForestClassifier\n",
        "from sklearn.utils import resample"
      ],
      "metadata": {
        "id": "E-9_6nyCQR1Y"
      },
      "execution_count": null,
      "outputs": []
    },
    {
      "cell_type": "code",
      "source": [
        "X_train, X_val, y_train, y_val = train_test_split(X, Y, test_size=0.25, random_state=27)\n",
        "X = pd.concat([X_train, y_train], axis=1)"
      ],
      "metadata": {
        "id": "HEroL0qpjDh5"
      },
      "execution_count": null,
      "outputs": []
    },
    {
      "cell_type": "code",
      "source": [
        "not_spam = X[X.spam==0]\n",
        "spam = X[X.spam==1]"
      ],
      "metadata": {
        "id": "4I8zuYznlf1X"
      },
      "execution_count": null,
      "outputs": []
    },
    {
      "cell_type": "markdown",
      "source": [
        "c) Class imbalance handling"
      ],
      "metadata": {
        "id": "FYRKqbltk6wq"
      }
    },
    {
      "cell_type": "code",
      "source": [
        "spam_upsampled = resample(spam, replace=True, n_samples=len(not_spam), random_state=27)\n",
        "upsampled = pd.concat([not_spam, spam_upsampled])"
      ],
      "metadata": {
        "id": "307afP3HmEmc"
      },
      "execution_count": null,
      "outputs": []
    },
    {
      "cell_type": "code",
      "source": [
        "upsampled['spam'].value_counts()"
      ],
      "metadata": {
        "colab": {
          "base_uri": "https://localhost:8080/"
        },
        "id": "qaLTzvI4qdV_",
        "outputId": "265c7fbc-438e-4e13-9a56-42fdf9aa8dc1"
      },
      "execution_count": null,
      "outputs": [
        {
          "output_type": "execute_result",
          "data": {
            "text/plain": [
              "1    2127\n",
              "0    2127\n",
              "Name: spam, dtype: int64"
            ]
          },
          "metadata": {},
          "execution_count": 40
        }
      ]
    },
    {
      "cell_type": "code",
      "source": [
        "y_train = upsampled['spam']\n",
        "X_train = upsampled.drop('spam', axis = 1 )"
      ],
      "metadata": {
        "id": "LZUtP4SPqiLI"
      },
      "execution_count": null,
      "outputs": []
    },
    {
      "cell_type": "markdown",
      "source": [
        "d) Classification models and tuned hyperparameters"
      ],
      "metadata": {
        "id": "Ux4UaH-olNDr"
      }
    },
    {
      "cell_type": "code",
      "source": [
        "clf_NB = GaussianNB(priors = None, var_smoothing = 1e-9)\n",
        "clf_LR = LogisticRegression(C=1e6)\n",
        "clf_Soft_margin_SVM = SVC(C = 0.1)\n",
        "clf_DT = DecisionTreeClassifier(criterion = \"entropy\", splitter = \"best\")\n",
        "clf_RF = RandomForestClassifier(n_estimators = 100, criterion = \"entropy\")\n",
        "clf_KM = SVC(kernel = 'rbf')"
      ],
      "metadata": {
        "id": "FA-Z7PEWsVBY"
      },
      "execution_count": null,
      "outputs": []
    },
    {
      "cell_type": "code",
      "source": [
        "clf_NB.fit(X_train, y_train)\n",
        "clf_LR.fit(X_train, y_train)\n",
        "clf_Soft_margin_SVM.fit(X_train, y_train)\n",
        "clf_DT.fit(X_train, y_train)\n",
        "clf_RF.fit(X_train, y_train)\n",
        "clf_KM.fit(X_train, y_train)"
      ],
      "metadata": {
        "colab": {
          "base_uri": "https://localhost:8080/"
        },
        "id": "WdGML9MzuEmf",
        "outputId": "5e6f1bae-d960-4774-ce87-c72788e64f13"
      },
      "execution_count": null,
      "outputs": [
        {
          "output_type": "stream",
          "name": "stderr",
          "text": [
            "/usr/local/lib/python3.7/dist-packages/sklearn/linear_model/_logistic.py:818: ConvergenceWarning: lbfgs failed to converge (status=1):\n",
            "STOP: TOTAL NO. of ITERATIONS REACHED LIMIT.\n",
            "\n",
            "Increase the number of iterations (max_iter) or scale the data as shown in:\n",
            "    https://scikit-learn.org/stable/modules/preprocessing.html\n",
            "Please also refer to the documentation for alternative solver options:\n",
            "    https://scikit-learn.org/stable/modules/linear_model.html#logistic-regression\n",
            "  extra_warning_msg=_LOGISTIC_SOLVER_CONVERGENCE_MSG,\n"
          ]
        },
        {
          "output_type": "execute_result",
          "data": {
            "text/plain": [
              "SVC()"
            ]
          },
          "metadata": {},
          "execution_count": 71
        }
      ]
    },
    {
      "cell_type": "code",
      "source": [
        "y_hat_test = clf_NB.predict(X_val)\n",
        "y_hat_test1 = clf_LR.predict(X_val)\n",
        "y_hat_test2 = clf_Soft_margin_SVM.predict(X_val)\n",
        "y_hat_test3 = clf_DT.predict(X_val)\n",
        "y_hat_test4 = clf_RF.predict(X_val)"
      ],
      "metadata": {
        "id": "Jv89XHhywXcw"
      },
      "execution_count": null,
      "outputs": []
    },
    {
      "cell_type": "markdown",
      "source": [
        "e) Classification Model Performance"
      ],
      "metadata": {
        "id": "zVA-SstilRM1"
      }
    },
    {
      "cell_type": "code",
      "source": [
        "from sklearn.metrics import classification_report\n",
        "train_cr = classification_report(y_val, y_hat_test)\n",
        "print(\"Train Report: Naive Bayes\")\n",
        "print(train_cr)\n",
        "train_cr = classification_report(y_val, y_hat_test1)\n",
        "print(\"Train Report: Logistic Regression\")\n",
        "print(train_cr)\n",
        "train_cr = classification_report(y_val, y_hat_test2)\n",
        "print(\"Train Report: SVM\")\n",
        "print(train_cr)\n",
        "train_cr = classification_report(y_val, y_hat_test3)\n",
        "print(\"Train Report: Decision Tree\")\n",
        "print(train_cr)\n",
        "train_cr = classification_report(y_val, y_hat_test4)\n",
        "print(\"Train Report: Random Forest\")\n",
        "print(train_cr)\n",
        "#test_cr = classification_report(test_y, predicted_test_y)\n",
        "#print(\"Test Report:\")\n",
        "#print(test_cr)"
      ],
      "metadata": {
        "colab": {
          "base_uri": "https://localhost:8080/"
        },
        "id": "1lpD-Xt4SKAL",
        "outputId": "b3d67c93-3433-4981-bde1-cdc077b914f5"
      },
      "execution_count": null,
      "outputs": [
        {
          "output_type": "stream",
          "name": "stdout",
          "text": [
            "Train Report: Naive Bayes\n",
            "              precision    recall  f1-score   support\n",
            "\n",
            "           0       0.95      0.88      0.92       715\n",
            "           1       0.31      0.55      0.40        69\n",
            "\n",
            "    accuracy                           0.85       784\n",
            "   macro avg       0.63      0.72      0.66       784\n",
            "weighted avg       0.90      0.85      0.87       784\n",
            "\n",
            "Train Report: Logistic Regression\n",
            "              precision    recall  f1-score   support\n",
            "\n",
            "           0       0.97      0.79      0.88       715\n",
            "           1       0.27      0.78      0.40        69\n",
            "\n",
            "    accuracy                           0.79       784\n",
            "   macro avg       0.62      0.79      0.64       784\n",
            "weighted avg       0.91      0.79      0.83       784\n",
            "\n",
            "Train Report: SVM\n",
            "              precision    recall  f1-score   support\n",
            "\n",
            "           0       0.96      0.59      0.73       715\n",
            "           1       0.15      0.72      0.24        69\n",
            "\n",
            "    accuracy                           0.60       784\n",
            "   macro avg       0.55      0.66      0.49       784\n",
            "weighted avg       0.89      0.60      0.69       784\n",
            "\n",
            "Train Report: Decision Tree\n",
            "              precision    recall  f1-score   support\n",
            "\n",
            "           0       0.96      0.95      0.96       715\n",
            "           1       0.54      0.62      0.58        69\n",
            "\n",
            "    accuracy                           0.92       784\n",
            "   macro avg       0.75      0.79      0.77       784\n",
            "weighted avg       0.93      0.92      0.92       784\n",
            "\n",
            "Train Report: Random Forest\n",
            "              precision    recall  f1-score   support\n",
            "\n",
            "           0       0.97      0.97      0.97       715\n",
            "           1       0.64      0.64      0.64        69\n",
            "\n",
            "    accuracy                           0.94       784\n",
            "   macro avg       0.80      0.80      0.80       784\n",
            "weighted avg       0.94      0.94      0.94       784\n",
            "\n"
          ]
        }
      ]
    },
    {
      "cell_type": "code",
      "source": [
        "from sklearn.metrics import accuracy_score\n",
        "print(\"Accuracy of Naive Bayes\", accuracy_score(y_val, y_hat_test))\n",
        "print(\"Accuracy of Logistic Regression\", accuracy_score(y_val, y_hat_test1))\n",
        "print(\"Accuracy of SVM\", accuracy_score(y_val, y_hat_test2))\n",
        "print(\"Accuracy of Decision Tree\", accuracy_score(y_val, y_hat_test3))\n",
        "print(\"Accuracy of Random Forest\", accuracy_score(y_val, y_hat_test4))\n",
        "print(\"Accuracy of Kernel Machine\", accuracy_score(y_val, y_hat_test5))"
      ],
      "metadata": {
        "colab": {
          "base_uri": "https://localhost:8080/"
        },
        "id": "OyQMEPPlxCNp",
        "outputId": "54601178-e88c-4e57-defd-0779d5eba2e2"
      },
      "execution_count": null,
      "outputs": [
        {
          "output_type": "stream",
          "name": "stdout",
          "text": [
            "Accuracy of Naive Bayes 0.8545918367346939\n",
            "Accuracy of Logistic Regression 0.7933673469387755\n",
            "Accuracy of SVM 0.6007653061224489\n",
            "Accuracy of Decision Tree 0.9196428571428571\n",
            "Accuracy of Random Forest 0.9362244897959183\n",
            "Accuracy of Kernel Machine 0.6632653061224489\n"
          ]
        }
      ]
    },
    {
      "cell_type": "code",
      "source": [
        "from sklearn.metrics import precision_score\n",
        "print(\"Precision of Naive Bayes\", precision_score(y_val, y_hat_test, average=None))\n",
        "print(\"Precision of Logistic Regression\", precision_score(y_val, y_hat_test1, average=None))\n",
        "print(\"Precision of SVM\", precision_score(y_val, y_hat_test2, average=None))\n",
        "print(\"Precision of Decision Tree\", precision_score(y_val, y_hat_test3, average=None))\n",
        "print(\"Precision of Random Forest\", precision_score(y_val, y_hat_test4, average=None))\n",
        "print(\"Precision of Kernel Machine\", precision_score(y_val, y_hat_test5, average=None))"
      ],
      "metadata": {
        "colab": {
          "base_uri": "https://localhost:8080/"
        },
        "id": "FfuAtedNx4fR",
        "outputId": "f84bb3dd-3497-4ce1-9f12-e7302d267cf1"
      },
      "execution_count": null,
      "outputs": [
        {
          "output_type": "stream",
          "name": "stdout",
          "text": [
            "Precision of Naive Bayes [0.95324284 0.31404959]\n",
            "Precision of SVM [0.97427101 0.26865672]\n",
            "Precision of Logistic Regression [0.96788991 0.36923077]\n",
            "Precision of Decision Tree [0.9657632  0.54216867]\n",
            "Precision of Random Forest [0.96493689 0.61971831]\n",
            "Precision of Kernel Machine [0.96303901 0.17171717]\n"
          ]
        }
      ]
    },
    {
      "cell_type": "code",
      "source": [
        "from sklearn.metrics import recall_score\n",
        "print(\"Recall of Naive Bayes\", recall_score(y_val, y_hat_test, average=None))\n",
        "print(\"Recall of Logistic Regression\", recall_score(y_val, y_hat_test1, average=None))\n",
        "print(\"Recall of SVM\", recall_score(y_val, y_hat_test2, average=None))\n",
        "print(\"Recall of Decision Tree\", recall_score(y_val, y_hat_test3, average=None))\n",
        "print(\"Recall of Random Forest\", recall_score(y_val, y_hat_test4, average=None))\n",
        "print(\"Recall of Kernel Machine\", recall_score(y_val, y_hat_test5, average=None))"
      ],
      "metadata": {
        "colab": {
          "base_uri": "https://localhost:8080/"
        },
        "id": "u6UOvb6VznFS",
        "outputId": "db6ec05e-bd0c-4acb-96b0-a40b902a78ba"
      },
      "execution_count": null,
      "outputs": [
        {
          "output_type": "stream",
          "name": "stdout",
          "text": [
            "Recall of Naive Bayes [0.88391608 0.55072464]\n",
            "Recall of SVM [0.79440559 0.7826087 ]\n",
            "Recall of Logistic Regression [0.88531469 0.69565217]\n",
            "Recall of Decision Tree [0.94685315 0.65217391]\n",
            "Recall of Random Forest [0.96223776 0.63768116]\n",
            "Recall of Kernel Machine [0.65594406 0.73913043]\n"
          ]
        }
      ]
    },
    {
      "cell_type": "code",
      "source": [
        "from sklearn.metrics import f1_score\n",
        "print(\"F1 Score of Naive Bayes\", f1_score(y_val, y_hat_test, average=None))\n",
        "print(\"F1 Score of SVM\", f1_score(y_val, y_hat_test1, average=None))\n",
        "print(\"F1 Score of Logistic Regression\", f1_score(y_val, y_hat_test2, average=None))\n",
        "print(\"F1 Score of Decision Tree\", f1_score(y_val, y_hat_test3, average=None))\n",
        "print(\"F1 Score of Random Forest\", f1_score(y_val, y_hat_test4, average=None))\n",
        "print(\"F1 Score of Kernel Machine\", f1_score(y_val, y_hat_test5, average=None))"
      ],
      "metadata": {
        "colab": {
          "base_uri": "https://localhost:8080/"
        },
        "id": "PE6mhqLw0p8q",
        "outputId": "5ec939b6-adb5-4a0a-8d50-8b0dbc6ee8bc"
      },
      "execution_count": null,
      "outputs": [
        {
          "output_type": "stream",
          "name": "stdout",
          "text": [
            "F1 Score of Naive Bayes [0.91727141 0.4       ]\n",
            "F1 Score of SVM [0.8751926 0.4      ]\n",
            "F1 Score of Logistic Regression [0.9247626  0.48241206]\n",
            "F1 Score of Decision Tree [0.95621469 0.59210526]\n",
            "F1 Score of Random Forest [0.96358543 0.62857143]\n",
            "F1 Score of Kernel Machine [0.78036606 0.27868852]\n"
          ]
        }
      ]
    },
    {
      "cell_type": "code",
      "source": [
        "import matplotlib.pyplot as plt\n",
        "from sklearn.metrics import confusion_matrix\n",
        "print(\"NB\", confusion_matrix(y_val, y_hat_test))\n",
        "print(\"Logistic Regression\", confusion_matrix(y_val, y_hat_test1))\n",
        "print(\"SVM\", confusion_matrix(y_val, y_hat_test2))\n",
        "print(\"Decision Tree\", confusion_matrix(y_val, y_hat_test3))\n",
        "print(\"Random Forest\", confusion_matrix(y_val, y_hat_test4))\n",
        "print(\"Kernel Machine\", confusion_matrix(y_val, y_hat_test5))"
      ],
      "metadata": {
        "colab": {
          "base_uri": "https://localhost:8080/"
        },
        "id": "BKWtX0lv2cPV",
        "outputId": "95b5ac76-31b9-4d4f-fb4d-b034efaf817c"
      },
      "execution_count": null,
      "outputs": [
        {
          "output_type": "stream",
          "name": "stdout",
          "text": [
            "NB [[632  83]\n",
            " [ 31  38]]\n",
            "SVM [[568 147]\n",
            " [ 15  54]]\n",
            "Logistic Regression [[633  82]\n",
            " [ 21  48]]\n",
            "Decision Tree [[677  38]\n",
            " [ 24  45]]\n",
            "Random Forest [[688  27]\n",
            " [ 25  44]]\n",
            "Kernel Machine [[469 246]\n",
            " [ 18  51]]\n"
          ]
        }
      ]
    },
    {
      "cell_type": "code",
      "source": [
        "not_spam_test = data_test[data_test.spam==0]\n",
        "spam_test = data_test[data_test.spam==1]"
      ],
      "metadata": {
        "id": "OPLKK23bBYFM"
      },
      "execution_count": null,
      "outputs": []
    },
    {
      "cell_type": "code",
      "source": [
        "spam_upsampled_test = resample(spam_test, replace=True, n_samples=len(not_spam_test), random_state=27)\n",
        "upsampled_test = pd.concat([not_spam_test, spam_upsampled_test])\n",
        "upsampled_test['spam'].value_counts()"
      ],
      "metadata": {
        "colab": {
          "base_uri": "https://localhost:8080/"
        },
        "id": "964rDYOhK8Mj",
        "outputId": "e77e4279-ab57-4abe-ddfd-509d10239374"
      },
      "execution_count": null,
      "outputs": [
        {
          "output_type": "execute_result",
          "data": {
            "text/plain": [
              "1    712\n",
              "0    712\n",
              "Name: spam, dtype: int64"
            ]
          },
          "metadata": {},
          "execution_count": 61
        }
      ]
    },
    {
      "cell_type": "code",
      "source": [
        "y = data_test[\"spam\"]\n",
        "x = data_test[features]"
      ],
      "metadata": {
        "id": "5H8iIW3QEPwp"
      },
      "execution_count": null,
      "outputs": []
    },
    {
      "cell_type": "code",
      "source": [
        "y_predict = clf_NB.predict(x)\n",
        "y_predict1 = clf_LR.predict(x)\n",
        "y_predict2 = clf_Soft_margin_SVM.predict(x)\n",
        "y_predict3 = clf_DT.predict(x)\n",
        "y_predict4 = clf_RF.predict(x)\n",
        "y_predict5 = clf_KM.predict(x)"
      ],
      "metadata": {
        "id": "Qa6CJfZdEWMU"
      },
      "execution_count": null,
      "outputs": []
    },
    {
      "cell_type": "code",
      "source": [
        "print(\"Accuracy of Naive Bayes for test set\", accuracy_score(y, y_predict))\n",
        "print(\"Accuracy of Logistic Regression for test set\", accuracy_score(y, y_predict1))\n",
        "print(\"Accuracy of SVM for test set\", accuracy_score(y, y_predict2))\n",
        "print(\"Accuracy of Decision Tree for test set\", accuracy_score(y, y_predict3))\n",
        "print(\"Accuracy of Random Forest for test set\", accuracy_score(y, y_predict4))\n",
        "print(\"Accuracy of Kernel Machine for test set\", accuracy_score(y, y_predict5))"
      ],
      "metadata": {
        "colab": {
          "base_uri": "https://localhost:8080/"
        },
        "id": "PHeli82qLkkj",
        "outputId": "8473f8e2-0637-4d2d-cf89-6332d0e76dea"
      },
      "execution_count": null,
      "outputs": [
        {
          "output_type": "stream",
          "name": "stdout",
          "text": [
            "Accuracy of Naive Bayes for test set 0.8904458598726115\n",
            "Accuracy of SVM for test set 0.778343949044586\n",
            "Accuracy of Logistic Regression for test set 0.8624203821656051\n",
            "Accuracy of Decision Tree for test set 0.9146496815286624\n",
            "Accuracy of Random Forest for test set 0.9286624203821656\n",
            "Accuracy of Kernel Machine for test set 0.6496815286624203\n"
          ]
        }
      ]
    },
    {
      "cell_type": "code",
      "source": [
        "print(\"Precision of Naive Bayes for test set\", precision_score(y, y_predict, average=None))\n",
        "print(\"Precision of SVM for test set\", precision_score(y, y_predict1, average=None))\n",
        "print(\"Precision of Logistic Regression for test set\", precision_score(y, y_predict2, average=None))\n",
        "print(\"Precision of Decision Tree for test set\", precision_score(y, y_predict3, average=None))\n",
        "print(\"Precision of Random Forest for test set\", precision_score(y, y_predict4, average=None))\n",
        "print(\"Precision of Kernel Machine for test set\", precision_score(y, y_predict5, average=None))"
      ],
      "metadata": {
        "colab": {
          "base_uri": "https://localhost:8080/"
        },
        "id": "W-I0MXZHMBiq",
        "outputId": "7e4c2b34-002b-47a5-e8ac-f59e0c618432"
      },
      "execution_count": null,
      "outputs": [
        {
          "output_type": "stream",
          "name": "stdout",
          "text": [
            "Precision of Naive Bayes for test set [0.96165192 0.43925234]\n",
            "Precision of SVM for test set [0.96864111 0.26066351]\n",
            "Precision of Logistic Regression for test set [0.9689441  0.37588652]\n",
            "Precision of Decision Tree for test set [0.94482759 0.55      ]\n",
            "Precision of Random Forest for test set [0.95429363 0.63492063]\n",
            "Precision of Kernel Machine for test set [0.97603486 0.19018405]\n"
          ]
        }
      ]
    },
    {
      "cell_type": "code",
      "source": [
        " print(\"Recall of Naive Bayes for test set\", recall_score(y, y_predict, average=None))\n",
        "print(\"Recall of SVM for test set\", recall_score(y, y_predict1, average=None))\n",
        "print(\"Recall of Logistic Regression for test set\", recall_score(y, y_predict2, average=None))\n",
        "print(\"Recall of Decision Tree for test set\", recall_score(y, y_predict3, average=None))\n",
        "print(\"Recall of Random Forest for test set\", recall_score(y, y_predict4, average=None))\n",
        "print(\"Recall of Kernel Machine for test set\", recall_score(y, y_predict5, average=None))"
      ],
      "metadata": {
        "colab": {
          "base_uri": "https://localhost:8080/"
        },
        "id": "O9c6A5M9McpY",
        "outputId": "ee4ca926-3640-448e-e093-52e752aa2e63"
      },
      "execution_count": null,
      "outputs": [
        {
          "output_type": "stream",
          "name": "stdout",
          "text": [
            "Recall of Naive Bayes for test set [0.91573034 0.64383562]\n",
            "Recall of SVM for test set [0.78089888 0.75342466]\n",
            "Recall of Logistic Regression for test set [0.87640449 0.7260274 ]\n",
            "Recall of Decision Tree for test set [0.96207865 0.45205479]\n",
            "Recall of Random Forest for test set [0.96769663 0.54794521]\n",
            "Recall of Kernel Machine for test set [0.62921348 0.84931507]\n"
          ]
        }
      ]
    },
    {
      "cell_type": "code",
      "source": [
        "print(\"F1 Score of Naive Bayes for test set\", f1_score(y, y_predict, average=None))\n",
        "print(\"F1 Score of SVM for test set\", f1_score(y, y_predict1, average=None))\n",
        "print(\"F1 Score of Logistic Regression for test set\", f1_score(y, y_predict2, average=None))\n",
        "print(\"F1 Score of Decision Tree for test set\", f1_score(y, y_predict3, average=None))\n",
        "print(\"F1 Score of Random Forest for test set\", f1_score(y, y_predict4, average=None))\n",
        "print(\"F1 Score of Kernel Machine for test set\", f1_score(y, y_predict5, average=None))"
      ],
      "metadata": {
        "colab": {
          "base_uri": "https://localhost:8080/"
        },
        "id": "_axAFdS3P2lP",
        "outputId": "3f1bcaee-4be6-4f53-d728-52291ecb0066"
      },
      "execution_count": null,
      "outputs": [
        {
          "output_type": "stream",
          "name": "stdout",
          "text": [
            "F1 Score of Naive Bayes for test set [0.9381295  0.52222222]\n",
            "F1 Score of SVM for test set [0.86469673 0.38732394]\n",
            "F1 Score of Logistic Regression for test set [0.92035398 0.4953271 ]\n",
            "F1 Score of Decision Tree for test set [0.95337509 0.4962406 ]\n",
            "F1 Score of Random Forest for test set [0.9609484  0.58823529]\n",
            "F1 Score of Kernel Machine for test set [0.76515798 0.31077694]\n"
          ]
        }
      ]
    },
    {
      "cell_type": "code",
      "source": [
        "print(\"NB for test set\", confusion_matrix(y, y_predict))\n",
        "print(\"Logistic Regression for test set\", confusion_matrix(y, y_predict1))\n",
        "print(\"SVM for test set\", confusion_matrix(y, y_predict2))\n",
        "print(\"Decision Tree for test set\", confusion_matrix(y, y_predict3))\n",
        "print(\"Random Forest for test set\", confusion_matrix(y, y_predict4))\n",
        "print(\"Kernel Machine for test set\", confusion_matrix(y, y_predict5))"
      ],
      "metadata": {
        "colab": {
          "base_uri": "https://localhost:8080/"
        },
        "id": "hbkGQOjhSP4Y",
        "outputId": "e798074c-3c73-4458-9de7-c1b326e603f6"
      },
      "execution_count": null,
      "outputs": [
        {
          "output_type": "stream",
          "name": "stdout",
          "text": [
            "NB for test set [[652  60]\n",
            " [ 26  47]]\n",
            "SVM for test set [[556 156]\n",
            " [ 18  55]]\n",
            "Logistic Regression for test set [[624  88]\n",
            " [ 20  53]]\n",
            "Decision Tree for test set [[685  27]\n",
            " [ 40  33]]\n",
            "Random Forest for test set [[689  23]\n",
            " [ 33  40]]\n",
            "Kernel Machine for test set [[448 264]\n",
            " [ 11  62]]\n"
          ]
        }
      ]
    },
    {
      "cell_type": "markdown",
      "source": [
        "f) Normalization Scheme"
      ],
      "metadata": {
        "id": "G_yJLMeslaaq"
      }
    },
    {
      "cell_type": "code",
      "source": [
        "from sklearn.preprocessing import MinMaxScaler\n",
        "normalize = MinMaxScaler()\n",
        "scaled = normalize.fit_transform(X_train)"
      ],
      "metadata": {
        "id": "tALr_nQRSp3s"
      },
      "execution_count": null,
      "outputs": []
    },
    {
      "cell_type": "code",
      "source": [
        "scaled"
      ],
      "metadata": {
        "colab": {
          "base_uri": "https://localhost:8080/"
        },
        "id": "Y5c4bVEVWCjn",
        "outputId": "abed3e66-e3f3-4ab0-8c9c-c6e25fc40a95"
      },
      "execution_count": null,
      "outputs": [
        {
          "output_type": "execute_result",
          "data": {
            "text/plain": [
              "array([[0., 1., 0., ..., 0., 0., 1.],\n",
              "       [0., 1., 0., ..., 0., 0., 1.],\n",
              "       [0., 1., 0., ..., 0., 0., 1.],\n",
              "       ...,\n",
              "       [0., 1., 0., ..., 0., 0., 1.],\n",
              "       [0., 1., 0., ..., 0., 0., 1.],\n",
              "       [0., 1., 0., ..., 0., 0., 0.]])"
            ]
          },
          "metadata": {},
          "execution_count": 86
        }
      ]
    },
    {
      "cell_type": "code",
      "source": [
        "clf_NB = GaussianNB(priors = None, var_smoothing = 1e-9)\n",
        "clf_LR = LogisticRegression(C=1e6)\n",
        "clf_Soft_margin_SVM = SVC(C = 0.1)\n",
        "clf_DT = DecisionTreeClassifier(criterion = \"entropy\", splitter = \"best\")\n",
        "clf_RF = RandomForestClassifier(n_estimators = 100, criterion = \"entropy\")\n",
        "clf_KM = SVC(kernel = 'rbf')"
      ],
      "metadata": {
        "id": "doPUngepWM9P"
      },
      "execution_count": null,
      "outputs": []
    },
    {
      "cell_type": "code",
      "source": [
        "clf_NB.fit(X_train, y_train)\n",
        "clf_LR.fit(X_train, y_train)\n",
        "clf_Soft_margin_SVM.fit(X_train, y_train)\n",
        "clf_DT.fit(X_train, y_train)\n",
        "clf_RF.fit(X_train, y_train)\n",
        "clf_KM.fit(X_train, y_train)"
      ],
      "metadata": {
        "colab": {
          "base_uri": "https://localhost:8080/"
        },
        "id": "lYxslTg1WmQ4",
        "outputId": "b50c0838-78c7-473a-958b-a229e68a4ff6"
      },
      "execution_count": null,
      "outputs": [
        {
          "output_type": "stream",
          "name": "stderr",
          "text": [
            "/usr/local/lib/python3.7/dist-packages/sklearn/linear_model/_logistic.py:818: ConvergenceWarning: lbfgs failed to converge (status=1):\n",
            "STOP: TOTAL NO. of ITERATIONS REACHED LIMIT.\n",
            "\n",
            "Increase the number of iterations (max_iter) or scale the data as shown in:\n",
            "    https://scikit-learn.org/stable/modules/preprocessing.html\n",
            "Please also refer to the documentation for alternative solver options:\n",
            "    https://scikit-learn.org/stable/modules/linear_model.html#logistic-regression\n",
            "  extra_warning_msg=_LOGISTIC_SOLVER_CONVERGENCE_MSG,\n"
          ]
        },
        {
          "output_type": "execute_result",
          "data": {
            "text/plain": [
              "SVC()"
            ]
          },
          "metadata": {},
          "execution_count": 88
        }
      ]
    },
    {
      "cell_type": "code",
      "source": [
        "train_cr = classification_report(y_val, y_hat_test)\n",
        "print(\"Train Report: Naive Bayes\")\n",
        "print(train_cr)\n",
        "train_cr = classification_report(y_val, y_hat_test1)\n",
        "print(\"Train Report: Logistic Regression\")\n",
        "print(train_cr)\n",
        "train_cr = classification_report(y_val, y_hat_test2)\n",
        "print(\"Train Report: SVM\")\n",
        "print(train_cr)\n",
        "train_cr = classification_report(y_val, y_hat_test3)\n",
        "print(\"Train Report: Decision Tree\")\n",
        "print(train_cr)\n",
        "train_cr = classification_report(y_val, y_hat_test4)\n",
        "print(\"Train Report: Random Forest\")\n",
        "print(train_cr)"
      ],
      "metadata": {
        "colab": {
          "base_uri": "https://localhost:8080/"
        },
        "id": "7cWd8ZAmWspF",
        "outputId": "da4b1677-ffe0-47f1-b28f-c0612384f720"
      },
      "execution_count": null,
      "outputs": [
        {
          "output_type": "stream",
          "name": "stdout",
          "text": [
            "Train Report: Naive Bayes\n",
            "              precision    recall  f1-score   support\n",
            "\n",
            "           0       0.95      0.88      0.92       715\n",
            "           1       0.31      0.55      0.40        69\n",
            "\n",
            "    accuracy                           0.85       784\n",
            "   macro avg       0.63      0.72      0.66       784\n",
            "weighted avg       0.90      0.85      0.87       784\n",
            "\n",
            "Train Report: Logistic Regression\n",
            "              precision    recall  f1-score   support\n",
            "\n",
            "           0       0.97      0.79      0.88       715\n",
            "           1       0.27      0.78      0.40        69\n",
            "\n",
            "    accuracy                           0.79       784\n",
            "   macro avg       0.62      0.79      0.64       784\n",
            "weighted avg       0.91      0.79      0.83       784\n",
            "\n",
            "Train Report: SVM\n",
            "              precision    recall  f1-score   support\n",
            "\n",
            "           0       0.96      0.59      0.73       715\n",
            "           1       0.15      0.72      0.24        69\n",
            "\n",
            "    accuracy                           0.60       784\n",
            "   macro avg       0.55      0.66      0.49       784\n",
            "weighted avg       0.89      0.60      0.69       784\n",
            "\n",
            "Train Report: Decision Tree\n",
            "              precision    recall  f1-score   support\n",
            "\n",
            "           0       0.96      0.95      0.96       715\n",
            "           1       0.54      0.62      0.58        69\n",
            "\n",
            "    accuracy                           0.92       784\n",
            "   macro avg       0.75      0.79      0.77       784\n",
            "weighted avg       0.93      0.92      0.92       784\n",
            "\n",
            "Train Report: Random Forest\n",
            "              precision    recall  f1-score   support\n",
            "\n",
            "           0       0.97      0.97      0.97       715\n",
            "           1       0.64      0.64      0.64        69\n",
            "\n",
            "    accuracy                           0.94       784\n",
            "   macro avg       0.80      0.80      0.80       784\n",
            "weighted avg       0.94      0.94      0.94       784\n",
            "\n"
          ]
        }
      ]
    },
    {
      "cell_type": "code",
      "source": [
        "print(\"Accuracy of Naive Bayes for test set\", accuracy_score(y, y_predict))\n",
        "print(\"Accuracy of Logistic Regression for test set\", accuracy_score(y, y_predict1))\n",
        "print(\"Accuracy of SVM for test set\", accuracy_score(y, y_predict2))\n",
        "print(\"Accuracy of Decision Tree for test set\", accuracy_score(y, y_predict3))\n",
        "print(\"Accuracy of Random Forest for test set\", accuracy_score(y, y_predict4))\n",
        "print(\"Accuracy of Kernel Machine for test set\", accuracy_score(y, y_predict5))"
      ],
      "metadata": {
        "colab": {
          "base_uri": "https://localhost:8080/"
        },
        "id": "u7zRJ2APW2Nc",
        "outputId": "9d6f62ec-44c3-4ddf-953f-b98c221c3791"
      },
      "execution_count": null,
      "outputs": [
        {
          "output_type": "stream",
          "name": "stdout",
          "text": [
            "Accuracy of Naive Bayes for test set 0.8904458598726115\n",
            "Accuracy of Logistic Regression for test set 0.778343949044586\n",
            "Accuracy of SVM for test set 0.8624203821656051\n",
            "Accuracy of Decision Tree for test set 0.9146496815286624\n",
            "Accuracy of Random Forest for test set 0.9286624203821656\n",
            "Accuracy of Kernel Machine for test set 0.6496815286624203\n"
          ]
        }
      ]
    },
    {
      "cell_type": "code",
      "source": [
        ""
      ],
      "metadata": {
        "id": "KsIpoyJCW8LE"
      },
      "execution_count": null,
      "outputs": []
    }
  ]
}